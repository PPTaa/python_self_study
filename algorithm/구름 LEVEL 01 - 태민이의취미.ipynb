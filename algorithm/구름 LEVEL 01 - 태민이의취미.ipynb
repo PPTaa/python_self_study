{
 "cells": [
  {
   "cell_type": "markdown",
   "metadata": {},
   "source": [
    "# 태민이의 취미\n",
    "태민이는 주사위를 수집하는 취미를 가지고 있습니다.<br>\n",
    "주사위의 모양과 색깔은 각기 다르며, 크기 또한 다릅니다. <br>\n",
    "태민이는 지금까지 모은 N개의 주사위가 너무 난잡하게 보관해놓고 있어서 정리를 결심했습니다. <br>\n",
    "그래서 우선 N개의 주사위를 크기 순서대로 정리해보려고 마음 먹었습니다. \n",
    "<br><br>\n",
    "그렇게 주사위를 순서대로 정렬시켜보니 각 변의 길이가 1부터 N까지 모두 있는 것을 알게되었습니다.<br>\n",
    "이 사실이 매우 신기했던 태민이는 이 주사위들의 부피의 합은 어떻게 될지 궁금해졌습니다.<br>\n",
    "태민이가 현재 가지고 있는 모든 주사위의 부피의 합은 얼마일까요? 태민이의 궁금증을 풀어주세요!<br><br>\n",
    "\n",
    "## 입력\n",
    "  첫 줄에 정수 N이 주어집니다.\n",
    "    <br>\n",
    "## 출력\n",
    "  변의 길이가 1부터 N까지인 주사위들의 부피의 합을 출력합니다.<br>\n",
    "  이때, 수가 너무 커질 수 있으므로 1000000007로 나눈 나머지를 출력합니다.\n",
    "  \n",
    "  > 출처: 구름LEVEL 알고리즘 프로그래밍 문제"
   ]
  },
  {
   "cell_type": "code",
   "execution_count": 1,
   "metadata": {},
   "outputs": [
    {
     "name": "stdout",
     "output_type": "stream",
     "text": [
      "8764891\n",
      "831853577\n"
     ]
    }
   ],
   "source": [
    "# -*- coding: utf-8 -*-\n",
    "# UTF-8 encoding when using korean\n",
    "user_input = input()\n",
    "\n",
    "a=0\n",
    "for i in range(1,int(user_input)+1):\n",
    "    a=(a+i**3)%1000000007\n",
    "print(a)"
   ]
  },
  {
   "cell_type": "code",
   "execution_count": 2,
   "metadata": {},
   "outputs": [
    {
     "name": "stdout",
     "output_type": "stream",
     "text": [
      "8764891\n",
      "831853577\n"
     ]
    }
   ],
   "source": [
    "# -*- coding: utf-8 -*-\n",
    "# UTF-8 encoding when using korean\n",
    "b = input()\n",
    "b=int(b)\n",
    "a=int((b*(b+1)/2))\n",
    "a=int(a*a)%1000000007\n",
    "print(int(a))"
   ]
  },
  {
   "cell_type": "code",
   "execution_count": null,
   "metadata": {},
   "outputs": [],
   "source": []
  },
  {
   "cell_type": "code",
   "execution_count": null,
   "metadata": {},
   "outputs": [],
   "source": []
  }
 ],
 "metadata": {
  "kernelspec": {
   "display_name": "Python 3",
   "language": "python",
   "name": "python3"
  },
  "language_info": {
   "codemirror_mode": {
    "name": "ipython",
    "version": 3
   },
   "file_extension": ".py",
   "mimetype": "text/x-python",
   "name": "python",
   "nbconvert_exporter": "python",
   "pygments_lexer": "ipython3",
   "version": "3.7.3"
  }
 },
 "nbformat": 4,
 "nbformat_minor": 2
}
