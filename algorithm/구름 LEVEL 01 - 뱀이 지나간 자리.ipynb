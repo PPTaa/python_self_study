{
 "cells": [
  {
   "cell_type": "markdown",
   "metadata": {},
   "source": [
    "# 뱀이 지나간 자리\n",
    "\n",
    "뱀은 모두가 알고 있다시피 지그재그로 몸을 비틀며 이동한다. 여기서는 뱀이 지나간 자리를 시각화 하여 출력해보자.\n",
    "\n",
    "우선 뱀은 N행 M열의 평면에서 움직일 것이다. 뱀은 (1,1) 좌표에서 똬리를 틀고있는 상태이다. 여기서 출발하여 우측 끝까지 갔다가 벽을 만나면 그 아래로 2행만큼 이동한다. 그 후 다시 좌측 끝까지 갔다가 벽을 만나면 마찬가지로 2행만큼 아래로 이동한다. 이렇게 계속 움직이다가 더 이상 아래로 이동할 수 없으면 그 자리에서 멈춘다.<br>\n",
    "(6,4)일 경우\n",
    "####<br>\n",
    ". . . #<br>\n",
    "####<br>\n",
    "#. . .<br>\n",
    "####<br>\n",
    ". . . #<br>\n",
    "\n",
    "뱀이 이동할 평면의 크기 N, M이 주어지면 뱀이 이동한 자리를 표시하는 프로그램을 작성하여라.\n",
    "\n",
    "## 입력\n",
    "평면의 크기를 나타내는 두 정수 N,M이 공백으로 구분되어 주어진다\n",
    "$$(단,3\\leq N,M \\leq100)$$\n",
    "\n",
    "## 출력\n",
    "N개의 줄에 걸쳐서 뱀이 지나간 자리를 시각화하여 출력한다.<br>\n",
    "이때, 뱀이 지나간 자리는 # 으로, 지나가지 않은자리는 . 으로 출력한다.<br>\n",
    "\n",
    " >출처 구름 LEVEL 알고리즘 문제"
   ]
  },
  {
   "cell_type": "code",
   "execution_count": 47,
   "metadata": {},
   "outputs": [
    {
     "name": "stdout",
     "output_type": "stream",
     "text": [
      "9 9\n",
      "#########\n",
      "........#\n",
      "#########\n",
      "#........\n",
      "#########\n",
      "........#\n",
      "#########\n",
      "#........\n",
      "#########\n"
     ]
    }
   ],
   "source": [
    "# -*- coding: utf-8 -*-\n",
    "# UTF-8 encoding when using korean\n",
    "n = list(map(int,input().split()))\n",
    "\n",
    "for i in range(n[0]):\n",
    "    if i%4 == 0:\n",
    "        print('#'*n[1],end='')\n",
    "    elif i%4 == 2:\n",
    "        print('#'*n[1],end='')\n",
    "    elif i%4 == 1:\n",
    "        print('.'*(n[1]-1)+'#',end='')\n",
    "    else:\n",
    "        print('#'+'.'*(n[1]-1),end='')\n",
    "    print()"
   ]
  },
  {
   "cell_type": "code",
   "execution_count": null,
   "metadata": {},
   "outputs": [],
   "source": []
  }
 ],
 "metadata": {
  "kernelspec": {
   "display_name": "Python 3",
   "language": "python",
   "name": "python3"
  },
  "language_info": {
   "codemirror_mode": {
    "name": "ipython",
    "version": 3
   },
   "file_extension": ".py",
   "mimetype": "text/x-python",
   "name": "python",
   "nbconvert_exporter": "python",
   "pygments_lexer": "ipython3",
   "version": "3.7.3"
  }
 },
 "nbformat": 4,
 "nbformat_minor": 2
}
