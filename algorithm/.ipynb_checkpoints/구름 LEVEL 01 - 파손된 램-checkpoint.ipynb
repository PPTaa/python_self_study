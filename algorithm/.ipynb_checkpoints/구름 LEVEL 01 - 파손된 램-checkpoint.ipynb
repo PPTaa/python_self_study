{
 "cells": [
  {
   "cell_type": "markdown",
   "metadata": {},
   "source": [
    "# 파손된 램\n",
    "지민이는 램을 모으는 것이 취미입니다. <br>\n",
    "램의 용량은 모두 2의 제곱수를 따르는데, 어느 날 지민이가 사용하기 위해 꽂았던 임의의 램이 2의 제곱수를 따르지 않는 것을 알게 되었습니다. <br>\n",
    "무슨 일인가 확인해보니 램이 일부분 파손되어 메모리가 제대로 표현이 되지 않는 것이었습니다. <br>\n",
    "지민이는 속상했지만 파손된 램을 모두 찾아서 버리기로 결심했습니다.\n",
    "<br><br>\n",
    "하지만 지민이는 100 미만의 2의 제곱수는 알고 있지만, 100 이상의 수가 2의 제곱수인지 아닌지 판별할 수 없습니다. <br>\n",
    "지민이가 100 이상의 용량을 가진 램 중 파손된 램의 개수와 번호를 찾을 수 있도록 도와주세요!<br>\n",
    "\n",
    "## 입력\n",
    "첫째 줄에 램의 개수를 의미하는 정수 N이 주어집니다.<br>\n",
    "둘째 줄에 메모리의 용량을 의미하는 정수 M가 N개 주어집니다.<br>\n",
    "    <br>\n",
    "## 출력\n",
    "첫째 줄에 파손된 램의 개수를 출력하고, 둘째 줄에 파손된 램의 번호를 출력합니다.<br>\n",
    "만약 파손된 램이 없다면 첫째 줄에만 0을 출력합니다.<br>\n",
    "  > 출처: 구름LEVEL 알고리즘 프로그래밍 문제"
   ]
  },
  {
   "cell_type": "code",
   "execution_count": 65,
   "metadata": {},
   "outputs": [
    {
     "name": "stdout",
     "output_type": "stream",
     "text": [
      "10\n",
      "1048576 16384 131072 8388608 834814 67108864 8192 1267650 128 129\n",
      "3\n",
      "5 8 10 "
     ]
    }
   ],
   "source": [
    "# -*- coding: utf-8 -*-\n",
    "# UTF-8 encoding when using korean\n",
    "n1 = input()\n",
    "n2 = list(map(int,input().split()))\n",
    "\n",
    "a=[]\n",
    "for i in range(len(n2)):\n",
    "    if ((n2[i])&(-n2[i])) == n2[i]:\n",
    "        pass\n",
    "    else:\n",
    "        a.append(i+1)\n",
    "\n",
    "print(len(a))\n",
    "if len(a) == 0:\n",
    "    pass\n",
    "else:\n",
    "    for i in range(len(a)):\n",
    "        print(a[i], end=' ')"
   ]
  },
  {
   "cell_type": "code",
   "execution_count": null,
   "metadata": {},
   "outputs": [],
   "source": []
  }
 ],
 "metadata": {
  "kernelspec": {
   "display_name": "Python 3",
   "language": "python",
   "name": "python3"
  },
  "language_info": {
   "codemirror_mode": {
    "name": "ipython",
    "version": 3
   },
   "file_extension": ".py",
   "mimetype": "text/x-python",
   "name": "python",
   "nbconvert_exporter": "python",
   "pygments_lexer": "ipython3",
   "version": "3.7.3"
  }
 },
 "nbformat": 4,
 "nbformat_minor": 2
}
