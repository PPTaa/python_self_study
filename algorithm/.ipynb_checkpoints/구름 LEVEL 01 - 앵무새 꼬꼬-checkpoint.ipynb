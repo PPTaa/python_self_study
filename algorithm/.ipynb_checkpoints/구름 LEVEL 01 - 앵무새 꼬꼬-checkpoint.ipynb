{
 "cells": [
  {
   "cell_type": "markdown",
   "metadata": {},
   "source": [
    "# 앵무새 꼬꼬\n",
    "\n",
    "어느 한 도시에 살고 있는 앵무새 꼬꼬는 자음을 알아듣지 못합니다. <br>\n",
    "하지만 모음은 귀신같이 정확하게 알아듣고 그대로 따라서 말합니다. <br>\n",
    "이 소문을 듣게 된 사람들은 꼬꼬가 정말로 모음만을 따라서 말하는지 확인하기 위해, 꼬꼬의 앞에서 여러가지를 말하려고 합니다.\n",
    "<br><br>\n",
    "입력으로 여러 문장이 들어올 때, 각 문장에 대해 꼬꼬가 따라서 말해야 하는 문장을 출력하는 프로그램을 작성해주세요. <br>\n",
    "단, 알파벳 모음은 a, e, i, o, u 5개 입니다.\n",
    "<br><br>\n",
    "## 입력\n",
    "첫째 줄에 정수 N이 주어집니다. $$(단, 1\\leq N \\leq100)$$\n",
    "둘째 줄부터 N개의 줄에 걸쳐 영어 대소문자와 숫자, 공백 및 특수문자들이 포함된 문장이 주어지며, 각 문장의 길이는 1자이상 255자 이하입니다.\n",
    "## 출력\n",
    "N개의 줄에 걸쳐 각 문장에서 모음만을 순서대로 출력합니다. <br>\n",
    "단, 모음이 한개도 없으면 ???을 출력합니다.\n",
    "\n",
    "> 출처: 구름LEVEL 알고리즘 문제"
   ]
  },
  {
   "cell_type": "code",
   "execution_count": 1,
   "metadata": {},
   "outputs": [
    {
     "name": "stdout",
     "output_type": "stream",
     "text": [
      "aaa\n"
     ]
    },
    {
     "ename": "ValueError",
     "evalue": "invalid literal for int() with base 10: 'aaa'",
     "output_type": "error",
     "traceback": [
      "\u001b[1;31m---------------------------------------------------------------------------\u001b[0m",
      "\u001b[1;31mValueError\u001b[0m                                Traceback (most recent call last)",
      "\u001b[1;32m<ipython-input-1-f55511e69144>\u001b[0m in \u001b[0;36m<module>\u001b[1;34m()\u001b[0m\n\u001b[0;32m      1\u001b[0m \u001b[1;31m# -*- coding: utf-8 -*-\u001b[0m\u001b[1;33m\u001b[0m\u001b[1;33m\u001b[0m\u001b[1;33m\u001b[0m\u001b[0m\n\u001b[0;32m      2\u001b[0m \u001b[1;31m# UTF-8 encoding when using korean\u001b[0m\u001b[1;33m\u001b[0m\u001b[1;33m\u001b[0m\u001b[1;33m\u001b[0m\u001b[0m\n\u001b[1;32m----> 3\u001b[1;33m \u001b[0mnum\u001b[0m \u001b[1;33m=\u001b[0m \u001b[0mint\u001b[0m\u001b[1;33m(\u001b[0m\u001b[0minput\u001b[0m\u001b[1;33m(\u001b[0m\u001b[1;33m)\u001b[0m\u001b[1;33m)\u001b[0m\u001b[1;33m\u001b[0m\u001b[1;33m\u001b[0m\u001b[0m\n\u001b[0m\u001b[0;32m      4\u001b[0m \u001b[0ma\u001b[0m\u001b[1;33m=\u001b[0m\u001b[1;33m[\u001b[0m\u001b[1;33m]\u001b[0m\u001b[1;33m\u001b[0m\u001b[1;33m\u001b[0m\u001b[0m\n\u001b[0;32m      5\u001b[0m \u001b[0mb\u001b[0m\u001b[1;33m=\u001b[0m\u001b[1;33m[\u001b[0m\u001b[1;33m]\u001b[0m\u001b[1;33m\u001b[0m\u001b[1;33m\u001b[0m\u001b[0m\n",
      "\u001b[1;31mValueError\u001b[0m: invalid literal for int() with base 10: 'aaa'"
     ]
    }
   ],
   "source": [
    "# -*- coding: utf-8 -*-\n",
    "# UTF-8 encoding when using korean\n",
    "num = int(input())\n",
    "a=[]\n",
    "b=[]\n",
    "for i in range(num):\n",
    "    a.append(input())\n",
    "    print(list(a[i]))\n",
    "    b.append(list(a[i]))\n",
    "print(b)"
   ]
  },
  {
   "cell_type": "code",
   "execution_count": 2,
   "metadata": {},
   "outputs": [
    {
     "name": "stdout",
     "output_type": "stream",
     "text": [
      "hjakj\n"
     ]
    }
   ],
   "source": [
    "input_str = input()"
   ]
  },
  {
   "cell_type": "code",
   "execution_count": 3,
   "metadata": {},
   "outputs": [
    {
     "data": {
      "text/plain": [
       "'hjakj'"
      ]
     },
     "execution_count": 3,
     "metadata": {},
     "output_type": "execute_result"
    }
   ],
   "source": [
    "input_str"
   ]
  },
  {
   "cell_type": "code",
   "execution_count": 6,
   "metadata": {},
   "outputs": [
    {
     "data": {
      "text/plain": [
       "['h', 'j', 'a', 'k', 'j']"
      ]
     },
     "execution_count": 6,
     "metadata": {},
     "output_type": "execute_result"
    }
   ],
   "source": [
    "list(input_str)"
   ]
  },
  {
   "cell_type": "code",
   "execution_count": 23,
   "metadata": {
    "scrolled": true
   },
   "outputs": [
    {
     "name": "stdout",
     "output_type": "stream",
     "text": [
      "3\n",
      "ㅂㅈㄷ\n",
      "b: ['ㅂ', 'ㅈ', 'ㄷ']\n",
      "???\n",
      "asd\n",
      "b: ['a', 's', 'd']\n",
      "a\n",
      "zxc\n",
      "b: ['z', 'x', 'c']\n",
      "???\n"
     ]
    }
   ],
   "source": [
    "# -*- coding: utf-8 -*-\n",
    "# UTF-8 encoding when using korean\n",
    "num = int(input())\n",
    "for i in range(num):\n",
    "    b= list(input())\n",
    "    print('b:',b)\n",
    "    lst = []\n",
    "    for element in b:\n",
    "        if element in 'aeiouAEIOU':\n",
    "            lst.append(element)\n",
    "    \n",
    "    if not len(lst):\n",
    "        lst = '???'\n",
    "        \n",
    "    print(''.join(lst))"
   ]
  },
  {
   "cell_type": "code",
   "execution_count": 24,
   "metadata": {},
   "outputs": [
    {
     "name": "stdout",
     "output_type": "stream",
     "text": [
      "3\n",
      "qwe\n",
      "e\n",
      "asd\n",
      "a\n",
      "zxc\n",
      "???\n"
     ]
    }
   ],
   "source": [
    "# -*- coding: utf-8 -*-\n",
    "# UTF-8 encoding when using korean\n",
    "num = int(input())\n",
    "for i in range(num):\n",
    "    \n",
    "    b= list(input())\n",
    "   \n",
    "    flag = 0\n",
    "    for j in range(len(b)):\n",
    "        if b[j] in 'aeiouAEIOU':\n",
    "            print(b[j],end='')\n",
    "            flag = 1\n",
    "\n",
    "    if flag == 0 :\n",
    "        print('???')\n",
    "    else:\n",
    "        print()"
   ]
  },
  {
   "cell_type": "code",
   "execution_count": null,
   "metadata": {},
   "outputs": [],
   "source": []
  },
  {
   "cell_type": "code",
   "execution_count": null,
   "metadata": {},
   "outputs": [],
   "source": []
  }
 ],
 "metadata": {
  "kernelspec": {
   "display_name": "Python 3",
   "language": "python",
   "name": "python3"
  },
  "language_info": {
   "codemirror_mode": {
    "name": "ipython",
    "version": 3
   },
   "file_extension": ".py",
   "mimetype": "text/x-python",
   "name": "python",
   "nbconvert_exporter": "python",
   "pygments_lexer": "ipython3",
   "version": "3.7.3"
  }
 },
 "nbformat": 4,
 "nbformat_minor": 2
}
