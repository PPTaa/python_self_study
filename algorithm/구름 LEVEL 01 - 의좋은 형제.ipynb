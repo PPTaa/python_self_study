{
 "cells": [
  {
   "cell_type": "markdown",
   "metadata": {},
   "source": [
    "# 의좋은 형제\n",
    "조선시대 수도 한양에서 한참 떨어진 곳에 위치한 한 고을에는 의좋은 형제가 살았다. <br>\n",
    "서로를 끔찍이 아낀다고 소문난 진우와 선우 형제는 항상 서로에게 퍼주지 못해 안달이 난 상태였다. <br>\n",
    "의리있는 만큼 성실했던 두 형제는 열심히 일하여 번 돈으로 식량을 어마어마하게 비축하여 가지고 있었다.\n",
    "<br><br>\n",
    "그러던 어느날, 진우는 밤 중에 몰래 집을 나와 자신의 식량 절반을 선우에게 가져다 주었다. <br>\n",
    "이 사실을 안 선우는 다음날 밤, 몰래 집을 나와 마찬가지로 자신의 식량 절반을 진우에게 가져다 주었다. <br>\n",
    "가지고 있는 식량의 양이 홀수라서 반으로 나눌 수 없는 경우, 그 식량을 통째로 넘겨준다. <br>\n",
    "만약 처음 두 형제가 모두 식량을 100씩 가지고 있다면 셋째 날까지의 변화는 다음과 같다.<br><br>\n",
    "\n",
    "처음 상태: 진우 100, 선우 100<br>\n",
    "첫째 날: 진우 50, 선우 150<br>\n",
    "둘째 날: 진우 125, 선우 75<br>\n",
    "셋째 날: 진우 62, 선우 138<br><br>\n",
    "\n",
    "매일 밤 계속되는 이 모습을 지켜본 동네 꼬마는 문득 D번째 날에는 두 형제에게 식량이 얼마나 남아있을지 궁금해졌다. <br>\n",
    "D번째 날에 진우와 선우는 식량을 얼마나 갖고 있을지 출력하라.<br>\n",
    "\n",
    "## 입력\n",
    "첫째 줄에는 진우와 선우가 처음 갖고 있는 식량의 양 N1,N2가 정수로 주어진다.<br>\n",
    "둘째 줄에는 두 형제의 식량의 양을 알고 싶은 날 D가 정수로 주어진다.(단, 1<= D <=100)\n",
    "    <br>\n",
    "## 출력\n",
    "D번째 날에 진우, 선우 순서로 갖고 있는 식량의 양을 공백으로 구분하여 출력한다.\n",
    "  > 출처: 구름LEVEL 알고리즘 프로그래밍 문제"
   ]
  },
  {
   "cell_type": "code",
   "execution_count": 13,
   "metadata": {},
   "outputs": [
    {
     "name": "stdout",
     "output_type": "stream",
     "text": [
      "1 1\n",
      "9\n",
      "0 2\n"
     ]
    }
   ],
   "source": [
    "# -*- coding: utf-8 -*-\n",
    "# UTF-8 encoding when using korean\n",
    "n1 = list(map(int,input().split()))\n",
    "n2 = input()\n",
    "a=n1\n",
    "for i in range(1,int(n2)+1):\n",
    "    if i%2 != 0:\n",
    "        half = a[0]//2\n",
    "        a[1] = a[1]+(a[0]-half)\n",
    "        a[0] = half\n",
    "    else:\n",
    "        half = a[1]//2\n",
    "        a[0] = a[0]+(a[1]-half)\n",
    "        a[1] = half\n",
    "print(a[0],a[1])"
   ]
  }
 ],
 "metadata": {
  "kernelspec": {
   "display_name": "Python 3",
   "language": "python",
   "name": "python3"
  },
  "language_info": {
   "codemirror_mode": {
    "name": "ipython",
    "version": 3
   },
   "file_extension": ".py",
   "mimetype": "text/x-python",
   "name": "python",
   "nbconvert_exporter": "python",
   "pygments_lexer": "ipython3",
   "version": "3.7.3"
  }
 },
 "nbformat": 4,
 "nbformat_minor": 2
}
