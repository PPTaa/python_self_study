{
 "cells": [
  {
   "cell_type": "markdown",
   "metadata": {},
   "source": [
    "# [KOI 2019] 막대기\n",
    "\n",
    "아래 그림처럼 높이만 다르고 (같은 높이의 막대기가 있을 수 있음) 모양이 같은 막대기를 일렬로 세운 후, 왼쪽부터 차례로 번호를 붙인다. 각 막대기의 높이는 그림에서 보인 것처럼 순서대로 6, 9, 7, 6, 4, 6 이다. 일렬로 세워진 막대기를 오른쪽에서 보면 보이는 막대기가 있고 보이지 않는 막대기가 있다. 즉, 지금 보이는 막대기보다 뒤에 있고 높이가 높은 것이 보이게 된다. 예를 들어, 그림과 같은 경우엔 3개(6번, 3번, 2번)의 막대기가 보인다.<br>\n",
    "\n",
    "N개의 막대기에 대한 높이 정보가 주어질 때, 오른쪽에서 보아서 몇 개가 보이는지를 알아내는 프로그램을 작성하려고 한다.\n",
    "\n",
    "#### 입력형식\n",
    "표준입력으로 다음정보가 주어진다. <br>\n",
    "첫번째 줄에는 막대기의 개수를 나타내는 정수N(2<N<100,000)이 주어지고<br>\n",
    "이어지는 N줄 각각엔 막대기의 높이를 나타내는 정수 h(1<h<100,000)가 주어진다\n",
    "\n",
    "#### 출력형식\n",
    "표준 출력으로 오른쪽에서 N개의 막대기를 보았을 때, 보이는 막대기의 개수를 출력한다.\n",
    " >출처 : 구름LEVEL 알고리즘 문제"
   ]
  },
  {
   "cell_type": "code",
   "execution_count": 16,
   "metadata": {},
   "outputs": [
    {
     "name": "stdout",
     "output_type": "stream",
     "text": [
      "6\n",
      "5\n",
      "4\n",
      "3\n",
      "2\n",
      "5\n",
      "2\n",
      "2\n"
     ]
    }
   ],
   "source": [
    "input_num = int(input())\n",
    "lst=[]\n",
    "for i in range(input_num):\n",
    "    input_stick = int(input())\n",
    "    lst.append(input_stick)\n",
    "a=lst[-1]\n",
    "for j in range(len(lst)-1,-1,-1):\n",
    "    if a > lst[j]:\n",
    "        lst.pop(j)\n",
    "    else:\n",
    "        a = lst[j]\n",
    "# print(lst[-1])\n",
    "# print(set(lst))\n",
    "print(len(list(set(lst))))\n",
    "    "
   ]
  },
  {
   "cell_type": "code",
   "execution_count": null,
   "metadata": {},
   "outputs": [],
   "source": []
  },
  {
   "cell_type": "code",
   "execution_count": null,
   "metadata": {},
   "outputs": [],
   "source": []
  }
 ],
 "metadata": {
  "kernelspec": {
   "display_name": "Python 3",
   "language": "python",
   "name": "python3"
  },
  "language_info": {
   "codemirror_mode": {
    "name": "ipython",
    "version": 3
   },
   "file_extension": ".py",
   "mimetype": "text/x-python",
   "name": "python",
   "nbconvert_exporter": "python",
   "pygments_lexer": "ipython3",
   "version": "3.7.3"
  }
 },
 "nbformat": 4,
 "nbformat_minor": 2
}
