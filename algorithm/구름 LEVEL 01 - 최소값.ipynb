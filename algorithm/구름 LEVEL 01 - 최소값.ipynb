{
 "cells": [
  {
   "cell_type": "markdown",
   "metadata": {},
   "source": [
    "# 최소값\n",
    "\n",
    "배열에 들어있는 정수 중 최소값을 구하는 프로그램을 작성하십시오.\n",
    "\n",
    "### 입력\n",
    "첫줄에 배열에 들어가는 정수의 개수(n) 입력<br>\n",
    "정수의 개수는 자연수만 가능<br>\n",
    "다음줄에 공백으로 구분하여 n개의 정수 입력<br>\n",
    "\n",
    "### 출력\n",
    "배열내의 정수중 최소값"
   ]
  },
  {
   "cell_type": "code",
   "execution_count": 4,
   "metadata": {},
   "outputs": [
    {
     "name": "stdout",
     "output_type": "stream",
     "text": [
      "1\n",
      "12 33 4 5 61 548 16 51 \n",
      "4\n"
     ]
    }
   ],
   "source": [
    "# -*- coding: utf-8 -*-\n",
    "# UTF-8 encoding when using korean\n",
    "user_input = input()\n",
    "number = list(map(int, input().split()))\n",
    "a=number[0]\n",
    "for i in range(len(number)):\n",
    "    if a > number[i]:\n",
    "        a = number[i]\n",
    "print(a)"
   ]
  },
  {
   "cell_type": "code",
   "execution_count": null,
   "metadata": {},
   "outputs": [],
   "source": []
  }
 ],
 "metadata": {
  "kernelspec": {
   "display_name": "Python 3",
   "language": "python",
   "name": "python3"
  },
  "language_info": {
   "codemirror_mode": {
    "name": "ipython",
    "version": 3
   },
   "file_extension": ".py",
   "mimetype": "text/x-python",
   "name": "python",
   "nbconvert_exporter": "python",
   "pygments_lexer": "ipython3",
   "version": "3.7.3"
  }
 },
 "nbformat": 4,
 "nbformat_minor": 2
}
