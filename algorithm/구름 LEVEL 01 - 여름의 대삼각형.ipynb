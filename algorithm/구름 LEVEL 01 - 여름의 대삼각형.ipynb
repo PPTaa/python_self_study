{
 "cells": [
  {
   "cell_type": "markdown",
   "metadata": {},
   "source": [
    "# 여름의 대삼각형\n",
    "\"저게 데네브, 알타이르, 베가야.\" <br><br>\n",
    "여자친구와 같이 데이트를 하던 지훈이는 모처럼 밤하늘에 아는 별자리가 보여 신나게 아는 척 하고 있습니다.<br>\n",
    "갑작스러운 자랑에 여자친구는 당황했지만, 표정을 보아하니 그 와중에 갑자기 한 가지 궁금증이 발생한 것 같습니다.\n",
    "<br><br>\n",
    "\"지훈아, 저 삼각형의 넓이는 대략 어느정도 될까?\" <br>\n",
    "\"어?\" <br>\n",
    "\"내가 임의로 3개의 별에 대한 좌표를 불러줄테니까 넓이를 구해봐!\" <br><br>\n",
    "괜히 아는 척을 했다가 봉변을 당한 지훈이. <br>\n",
    "만약 넓이를 구하지 못한다면 부족한 수학 실력에 여자친구가 크게 실망할지도 모릅니다. <br>\n",
    "자업자득이긴 하지만 세 개의 별의 좌표가 주어지면 삼각형의 넓이를 출력하는 프로그램을 만들어서 지훈이를 도와줍시다.<br><br>\n",
    "\n",
    "## 입력\n",
    "3개의 줄에 걸쳐서 각 별의 좌표가 정수 x,y로 주어집니다.(단, -10000<= x,y <=10000)\n",
    "    <br>\n",
    "## 출력\n",
    "입력으로 주어진 세 개의 별로 만들어지는 삼각형의 넓이를 소수점 3번째 자리에서 반올림하여 2번째 자리까지 출력합니다. 만약 삼각형이 만들어지지 않는다면 0을 출력합니다.\n",
    "  > 출처: 구름LEVEL 알고리즘 프로그래밍 문제"
   ]
  },
  {
   "cell_type": "code",
   "execution_count": 6,
   "metadata": {},
   "outputs": [
    {
     "name": "stdout",
     "output_type": "stream",
     "text": [
      "0 0\n",
      "3 0\n",
      "0 4\n",
      "3.0 5.0 4.0\n",
      "6.0\n",
      "6.0\n"
     ]
    }
   ],
   "source": [
    "\n",
    "n1 = list(map(int, input().split()))\n",
    "n2 = list(map(int, input().split()))\n",
    "n3 = list(map(int, input().split()))\n",
    "\n",
    "s1 = ((n1[0]-n2[0])**2+(n1[1]-n2[1])**2)**0.5\n",
    "s2 = ((n2[0]-n3[0])**2+(n2[1]-n3[1])**2)**0.5\n",
    "s3 = ((n3[0]-n1[0])**2+(n3[1]-n1[1])**2)**0.5\n",
    "#각 변의 길이\n",
    "\n",
    "s=(s1+s2+s3)/2 #삼각형의 반둘레\n",
    "\n",
    "\n",
    "a = (s*(s-s1)*(s-s2)*(s-s3))**0.5 # 헤론의 공식\n",
    "print(\"%0.2f\" %a) ## 소수점 두자리까지 강제로 출력"
   ]
  },
  {
   "cell_type": "code",
   "execution_count": null,
   "metadata": {},
   "outputs": [],
   "source": []
  },
  {
   "cell_type": "code",
   "execution_count": 5,
   "metadata": {},
   "outputs": [
    {
     "data": {
      "text/plain": [
       "'0b10000000000'"
      ]
     },
     "execution_count": 5,
     "metadata": {},
     "output_type": "execute_result"
    }
   ],
   "source": [
    "bin(1024)"
   ]
  },
  {
   "cell_type": "code",
   "execution_count": null,
   "metadata": {},
   "outputs": [],
   "source": []
  }
 ],
 "metadata": {
  "kernelspec": {
   "display_name": "Python 3",
   "language": "python",
   "name": "python3"
  },
  "language_info": {
   "codemirror_mode": {
    "name": "ipython",
    "version": 3
   },
   "file_extension": ".py",
   "mimetype": "text/x-python",
   "name": "python",
   "nbconvert_exporter": "python",
   "pygments_lexer": "ipython3",
   "version": "3.7.3"
  }
 },
 "nbformat": 4,
 "nbformat_minor": 2
}
