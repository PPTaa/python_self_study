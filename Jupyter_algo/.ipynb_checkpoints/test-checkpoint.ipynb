{
 "cells": [
  {
   "cell_type": "code",
   "execution_count": 205,
   "metadata": {
    "scrolled": true
   },
   "outputs": [
    {
     "name": "stdout",
     "output_type": "stream",
     "text": [
      "True\n",
      "False\n",
      "0 1 2 3 4 5 6 7 8 9 None \n",
      "False\n",
      "0 1 2 3 4 \n",
      "5 6 7 8 9 10 11 12 13 14 15 16 17 18 19 None None None None None None \n",
      "True\n"
     ]
    }
   ],
   "source": [
    "# 과제1번 코드란\n",
    "\n",
    "class Node:\n",
    "    def __init__(self, data, prev=None, next=None):\n",
    "        self.data = data\n",
    "        self.prev = prev\n",
    "        self.next = next\n",
    " \n",
    "class LinkedQueue:\n",
    "    def __init__(self):\n",
    "        self.front = None\n",
    "        self.rear = None\n",
    " \n",
    "    def is_empty(self):\n",
    "        if self.front == None:\n",
    "            return True\n",
    "        else:\n",
    "            return False\n",
    " \n",
    "    def put(self, data):\n",
    "        if self.rear == None:\n",
    "            self.rear = Node(data)\n",
    "            self.front = self.rear\n",
    "        else:\n",
    "            node = self.rear\n",
    "            new = Node(data)\n",
    "            node.next = new\n",
    "            new.prev = node\n",
    "            self.rear = new\n",
    "            \n",
    "    def get(self):\n",
    "        if self.front == None:\n",
    "            return None\n",
    "        else:\n",
    "            tmp = self.front\n",
    "            del self.front\n",
    "            self.front = tmp.next\n",
    "            if tmp == self.rear:\n",
    "                self.rear = None\n",
    "            return tmp.data\n",
    " \n",
    "    def peek(self):\n",
    "        if self.front == None:\n",
    "            return None\n",
    "        else:\n",
    "            a = self.front.data\n",
    "            self.front = self.front.next\n",
    "            return a\n",
    "        \n",
    "        \n",
    "# Test code\n",
    "queue = LinkedQueue()\n",
    " \n",
    "print(queue.is_empty())\n",
    "for i in range(10):\n",
    "    queue.put(i)\n",
    "print(queue.is_empty())\n",
    " \n",
    "for _ in range(11):\n",
    "    print(queue.get(), end=' ')\n",
    "print()\n",
    " \n",
    "for i in range(20):\n",
    "    queue.put(i)\n",
    "print(queue.is_empty())\n",
    " \n",
    "for _ in range(5):\n",
    "    print(queue.peek(), end=' ')\n",
    "print()\n",
    " \n",
    "for _ in range(21):\n",
    "    print(queue.get(), end=' ')\n",
    "print()\n",
    "print(queue.is_empty())"
   ]
  },
  {
   "cell_type": "code",
   "execution_count": 8,
   "metadata": {},
   "outputs": [],
   "source": [
    "import queue\n",
    "a = queue.PriorityQueue()\n",
    "a.put((10,'캠퍼스'))\n",
    "a.put((1,'패스트'))\n",
    "a.put((55,'완주반'))\n",
    "a.put((11,'온라인'))"
   ]
  },
  {
   "cell_type": "code",
   "execution_count": 9,
   "metadata": {},
   "outputs": [
    {
     "name": "stdout",
     "output_type": "stream",
     "text": [
      "패스트캠퍼스온라인완주반\n"
     ]
    }
   ],
   "source": [
    "print(\"\".join([a.get()[1],a.get()[1],a.get()[1],a.get()[1]]))"
   ]
  },
  {
   "cell_type": "code",
   "execution_count": 84,
   "metadata": {},
   "outputs": [
    {
     "name": "stdout",
     "output_type": "stream",
     "text": [
      "[24]\n",
      "[12.0]\n",
      "[14]\n",
      "14\n",
      "[7]\n",
      "[21]\n",
      "[15]\n",
      "[75]\n",
      "75\n"
     ]
    }
   ],
   "source": [
    "class Stack:\n",
    "    def __init__(self):\n",
    "        self.list = list()\n",
    " \n",
    "    def push(self, data):\n",
    "        self.list.append(data)\n",
    " \n",
    "    def pop(self):\n",
    "        return self.list.pop()\n",
    " \n",
    "class Calculator:\n",
    "    def __init__(self):\n",
    "        self.stack = Stack()\n",
    " \n",
    "    def calculate(self, string):\n",
    "        \n",
    "        for i in string:\n",
    "            if i == ' ':\n",
    "                continue\n",
    "            self.stack.push(i)\n",
    "            if i == '*':\n",
    "                self.stack.pop()\n",
    "                a = int(self.stack.pop())\n",
    "                b = int(self.stack.pop())\n",
    "                self.stack.push(b * a)\n",
    "                print(self.stack.list)\n",
    "            if i == '+':\n",
    "                self.stack.pop()\n",
    "                a = int(self.stack.pop())\n",
    "                b = int(self.stack.pop())\n",
    "                self.stack.push(b + a)\n",
    "                print(self.stack.list)\n",
    "            if i == '/':\n",
    "                self.stack.pop()\n",
    "                a = int(self.stack.pop())\n",
    "                b = int(self.stack.pop())\n",
    "                self.stack.push(b / a)\n",
    "                print(self.stack.list)\n",
    "            if i == '-':\n",
    "                self.stack.pop()\n",
    "                a = int(self.stack.pop())\n",
    "                b = int(self.stack.pop())\n",
    "                self.stack.push(b - a)\n",
    "                print(self.stack.list)\n",
    "        result = self.stack.pop()\n",
    "        return result\n",
    "        \n",
    "# Test code\n",
    "calc = Calculator()\n",
    "print(calc.calculate('4 6 * 2 / 2 +'))\n",
    "print(calc.calculate('2 5 + 3 * 6 - 5 *'))"
   ]
  },
  {
   "cell_type": "code",
   "execution_count": 121,
   "metadata": {},
   "outputs": [
    {
     "name": "stdout",
     "output_type": "stream",
     "text": [
      "200\n",
      "0\n",
      "1\n",
      "2\n",
      "100\n",
      "3\n",
      "4\n"
     ]
    }
   ],
   "source": [
    "class Node:\n",
    "    def __init__(self, data, prev=None, next=None):\n",
    "        self.prev = prev\n",
    "        self.data = data\n",
    "        self.next = next\n",
    " \n",
    "class NodeMgmt:\n",
    "    def __init__(self, data):\n",
    "        self.head = Node(data)\n",
    "        self.tail = self.head\n",
    " \n",
    "    def insert_before(self, data, before_data):\n",
    "        if self.head == None:\n",
    "            self.head = Node(data)\n",
    "            return True\n",
    "        else:\n",
    "            node = self.head\n",
    "            while node.data != before_data:\n",
    "                node = node.next\n",
    "                if node == None:\n",
    "                    return False\n",
    "            new = Node(data)\n",
    "            if node.prev == None:\n",
    "                new.next = node\n",
    "                node.prev = new\n",
    "                new.prev = None\n",
    "                self.head = new\n",
    "                return True\n",
    "            else:\n",
    "                before_new = node.prev\n",
    "                new.prev = before_new\n",
    "                before_new.next = new \n",
    "                new.next = node\n",
    "                node.prev = new\n",
    "                return True\n",
    " \n",
    "    def insert_after(self, data, after_data):\n",
    "        if self.head == None:\n",
    "            self.head = Node(data)\n",
    "            return True\n",
    "        else:\n",
    "            node = self.head\n",
    "            while node.data != after_data:\n",
    "                node = node.next\n",
    "                if node == None:\n",
    "                    return False\n",
    "            new = Node(data)\n",
    "            if node.next == None:\n",
    "                new.prev = node\n",
    "                node.next = new\n",
    "                new.next = None\n",
    "                self.tail = new\n",
    "                return True\n",
    "            else:\n",
    "                after_new = node.next\n",
    "                new.next = after_new\n",
    "                after_new.prev = new\n",
    "                new.prev = node\n",
    "                node.next = new \n",
    "                return True\n",
    " \n",
    "    def insert(self, data):\n",
    "        if self.head == None:\n",
    "            self.head = Node(data)\n",
    "        else:\n",
    "            node = self.head\n",
    "            while node.next:\n",
    "                node = node.next\n",
    "            new = Node(data)\n",
    "            node.next = new\n",
    "            new.prev = node\n",
    "            self.tail = new\n",
    " \n",
    "    def desc(self):\n",
    "        node = self.head\n",
    "        while node:\n",
    "            print (node.data)\n",
    "            node = node.next\n",
    " \n",
    "# Test Code\n",
    "node_mgmt = NodeMgmt(0)\n",
    "for data in range(1, 5):\n",
    "    node_mgmt.insert(data)\n",
    " \n",
    "node_mgmt.insert_before(200, 0)\n",
    "node_mgmt.insert_after(100, 2)\n",
    "node_mgmt.desc()"
   ]
  },
  {
   "cell_type": "code",
   "execution_count": 252,
   "metadata": {},
   "outputs": [
    {
     "name": "stdout",
     "output_type": "stream",
     "text": [
      "4\n",
      "4\n",
      "4\n",
      "4\n",
      "1 2 3 4 \n",
      "4\n",
      "1 5 3 4 "
     ]
    }
   ],
   "source": [
    "class HashTable:\n",
    "    def __init__(self):\n",
    "        self.table = [None]*10\n",
    " \n",
    "    @staticmethod\n",
    "    def hash_func(key):\n",
    "        return ord(key[0]) % 10\n",
    " \n",
    "    def set(self, key, value):\n",
    "        self.table[self.hash_func(key)] = value\n",
    " \n",
    "    def get(self, key):\n",
    "        return self.table[self.hash_func(key)]\n",
    " \n",
    "class Node:\n",
    "    def __init__(self, key, data):\n",
    "        self.key = key\n",
    "        self.data = data\n",
    "        self.next = None\n",
    " \n",
    "class ChainedHashTable(HashTable):\n",
    "    \n",
    "    def set(self, key, value):\n",
    "        hash_address = self.hash_func(key)\n",
    "        print(hash_address)\n",
    "        if self.table[hash_address] != None:\n",
    "            for index in range(len(self.table[hash_address])):\n",
    "                if self.table[hash_address][index][0] == key:\n",
    "                    self.table[hash_address][index][1] = value\n",
    "                    return\n",
    "            self.table[hash_address].append([key, value])\n",
    "#             print(f'[[{key}, {value}]]')\n",
    "        else:\n",
    "#             print(f'[[{key}, {value}]]')\n",
    "            self.table[hash_address] = [[key, value]]\n",
    "            \n",
    "    def get(self, key):\n",
    "        hash_address = self.hash_func(key)\n",
    "        if self.table[hash_address] != None:\n",
    "            for index in range(len(self.table[hash_address])):\n",
    "                if self.table[hash_address][index][0] == key:\n",
    "                    return self.table[hash_address][index][1]\n",
    "                    \n",
    "        else:\n",
    "            return None\n",
    "        return self.table[self.hash_func(key)]\n",
    "        \n",
    " \n",
    "# Test code\n",
    " \n",
    "ht = ChainedHashTable()\n",
    "ht.set('hello', 1)\n",
    "ht.set('hello2', 2)\n",
    "ht.set('hello3', 3)\n",
    "ht.set('hello4', 4)\n",
    "\n",
    "print(ht.get('hello'), end=' ')\n",
    "print(ht.get('hello2'), end=' ')\n",
    "print(ht.get('hello3'), end=' ')\n",
    "print(ht.get('hello4'), end=' ')\n",
    "print()\n",
    " \n",
    "ht.set('hello2', 5)\n",
    " \n",
    "print(ht.get('hello'), end=' ')\n",
    "print(ht.get('hello2'), end=' ')\n",
    "print(ht.get('hello3'), end=' ')\n",
    "print(ht.get('hello4'), end=' ')"
   ]
  },
  {
   "cell_type": "code",
   "execution_count": 3,
   "metadata": {},
   "outputs": [
    {
     "name": "stdout",
     "output_type": "stream",
     "text": [
      "tCampu\n"
     ]
    }
   ],
   "source": [
    "a = 'FastCampus'\n",
    "res = a[3:-1]\n",
    "print(res)"
   ]
  },
  {
   "cell_type": "code",
   "execution_count": 1,
   "metadata": {},
   "outputs": [],
   "source": [
    "import math"
   ]
  },
  {
   "cell_type": "code",
   "execution_count": 11,
   "metadata": {},
   "outputs": [],
   "source": [
    "avg = 119\n",
    "b = 100\n",
    "c = math.sqrt(b)\n",
    "variable = 136"
   ]
  },
  {
   "cell_type": "code",
   "execution_count": 12,
   "metadata": {},
   "outputs": [
    {
     "data": {
      "text/plain": [
       "1.7"
      ]
     },
     "execution_count": 12,
     "metadata": {},
     "output_type": "execute_result"
    }
   ],
   "source": [
    "(variable - avg)/c"
   ]
  },
  {
   "cell_type": "code",
   "execution_count": null,
   "metadata": {},
   "outputs": [],
   "source": []
  },
  {
   "cell_type": "code",
   "execution_count": null,
   "metadata": {},
   "outputs": [],
   "source": []
  },
  {
   "cell_type": "code",
   "execution_count": 20,
   "metadata": {},
   "outputs": [],
   "source": []
  },
  {
   "cell_type": "code",
   "execution_count": 53,
   "metadata": {},
   "outputs": [
    {
     "data": {
      "text/plain": [
       "True"
      ]
     },
     "execution_count": 53,
     "metadata": {},
     "output_type": "execute_result"
    }
   ],
   "source": [
    "# 과제1번 코드란\n",
    "matrix = [\n",
    "  [1,   3,  5,  7],\n",
    "  [10, 11, 16, 20],\n",
    "  [23, 30, 34, 50],\n",
    "  [51,59,67,70]\n",
    "]\n",
    "target = 70\n",
    "\n",
    "def searchMatrix(matrix, target):\n",
    "    searchList = []\n",
    "    if isinstance(matrix[0], list):\n",
    "        for i in matrix:\n",
    "            searchList += i\n",
    "    else:\n",
    "        searchList = matrix\n",
    "        \n",
    "    mid = len(searchList) // 2   \n",
    "    \n",
    "    if len(searchList) == 1 and target == searchList[0]:\n",
    "        return True\n",
    "    if len(searchList) == 1 and target != searchList[0]:\n",
    "        return False\n",
    "    if len(searchList) == 0:\n",
    "        return False \n",
    "\n",
    "    if searchList[mid] == target:\n",
    "        return True\n",
    "    else:\n",
    "        if target > searchList[mid]:\n",
    "            return searchMatrix(searchList[mid:], target)\n",
    "        else:\n",
    "            return searchMatrix(searchList[:mid], target)\n",
    "\n",
    "searchMatrix(matrix, target)\n",
    "\n",
    "\n"
   ]
  },
  {
   "cell_type": "code",
   "execution_count": 54,
   "metadata": {},
   "outputs": [],
   "source": [
    "def solution(n, vertex):\n",
    "    return 0"
   ]
  },
  {
   "cell_type": "code",
   "execution_count": 56,
   "metadata": {
    "scrolled": true
   },
   "outputs": [
    {
     "name": "stdout",
     "output_type": "stream",
     "text": [
      "10 12\n",
      "12 10\n",
      "10 2\n",
      "최대공약수: 2\n"
     ]
    }
   ],
   "source": [
    "def gcd(p, q):\n",
    "    if q == 0:\n",
    "        return p\n",
    "    else:\n",
    "        print(p,q)\n",
    "        return gcd(q, p % q)\n",
    "\n",
    "result = gcd(10, 12)\n",
    "print('최대공약수:',result)\n"
   ]
  },
  {
   "cell_type": "code",
   "execution_count": null,
   "metadata": {},
   "outputs": [],
   "source": []
  }
 ],
 "metadata": {
  "kernelspec": {
   "display_name": "Python 3",
   "language": "python",
   "name": "python3"
  },
  "language_info": {
   "codemirror_mode": {
    "name": "ipython",
    "version": 3
   },
   "file_extension": ".py",
   "mimetype": "text/x-python",
   "name": "python",
   "nbconvert_exporter": "python",
   "pygments_lexer": "ipython3",
   "version": "3.8.3"
  }
 },
 "nbformat": 4,
 "nbformat_minor": 4
}
