{
 "cells": [
  {
   "cell_type": "markdown",
   "metadata": {},
   "source": [
    "## 스택수열"
   ]
  },
  {
   "cell_type": "code",
   "execution_count": 1,
   "metadata": {},
   "outputs": [
    {
     "name": "stdout",
     "output_type": "stream",
     "text": [
      "1\n",
      "2 1 2 3 \n"
     ]
    },
    {
     "ename": "ValueError",
     "evalue": "invalid literal for int() with base 10: '2 1 2 3 '",
     "output_type": "error",
     "traceback": [
      "\u001b[0;31m---------------------------------------------------------------------------\u001b[0m",
      "\u001b[0;31mValueError\u001b[0m                                Traceback (most recent call last)",
      "\u001b[0;32m<ipython-input-1-3b5007fd6904>\u001b[0m in \u001b[0;36m<module>\u001b[0;34m\u001b[0m\n\u001b[1;32m      5\u001b[0m \u001b[0mresult\u001b[0m \u001b[0;34m=\u001b[0m \u001b[0;34m[\u001b[0m\u001b[0;34m]\u001b[0m\u001b[0;34m\u001b[0m\u001b[0;34m\u001b[0m\u001b[0m\n\u001b[1;32m      6\u001b[0m \u001b[0;32mfor\u001b[0m \u001b[0mi\u001b[0m \u001b[0;32min\u001b[0m \u001b[0mrange\u001b[0m\u001b[0;34m(\u001b[0m\u001b[0;36m1\u001b[0m\u001b[0;34m,\u001b[0m \u001b[0mn\u001b[0m\u001b[0;34m+\u001b[0m\u001b[0;36m1\u001b[0m\u001b[0;34m)\u001b[0m\u001b[0;34m:\u001b[0m\u001b[0;34m\u001b[0m\u001b[0;34m\u001b[0m\u001b[0m\n\u001b[0;32m----> 7\u001b[0;31m     \u001b[0mdata\u001b[0m \u001b[0;34m=\u001b[0m \u001b[0mint\u001b[0m\u001b[0;34m(\u001b[0m\u001b[0minput\u001b[0m\u001b[0;34m(\u001b[0m\u001b[0;34m)\u001b[0m\u001b[0;34m)\u001b[0m\u001b[0;34m\u001b[0m\u001b[0;34m\u001b[0m\u001b[0m\n\u001b[0m\u001b[1;32m      8\u001b[0m     \u001b[0;32mwhile\u001b[0m \u001b[0mcount\u001b[0m \u001b[0;34m<=\u001b[0m \u001b[0mdata\u001b[0m\u001b[0;34m:\u001b[0m\u001b[0;34m\u001b[0m\u001b[0;34m\u001b[0m\u001b[0m\n\u001b[1;32m      9\u001b[0m         \u001b[0mstack\u001b[0m\u001b[0;34m.\u001b[0m\u001b[0mappend\u001b[0m\u001b[0;34m(\u001b[0m\u001b[0mcount\u001b[0m\u001b[0;34m)\u001b[0m\u001b[0;34m\u001b[0m\u001b[0;34m\u001b[0m\u001b[0m\n",
      "\u001b[0;31mValueError\u001b[0m: invalid literal for int() with base 10: '2 1 2 3 '"
     ]
    }
   ],
   "source": [
    "n = int(input())\n",
    "\n",
    "count = 1\n",
    "stack = []\n",
    "result = []\n",
    "for i in range(1, n+1):\n",
    "    data = int(input())\n",
    "    while count <= data:\n",
    "        stack.append(count)\n",
    "        count += 1 \n",
    "        result.append('+')\n",
    "    if stack[-1] == data:\n",
    "        stack.pop()\n",
    "        result.append(\"-\")\n",
    "    else:\n",
    "        print(\"NO\")\n",
    "        exit(0)\n",
    "print(result)"
   ]
  },
  {
   "cell_type": "markdown",
   "metadata": {},
   "source": [
    "## 프린터 큐"
   ]
  },
  {
   "cell_type": "code",
   "execution_count": 5,
   "metadata": {},
   "outputs": [
    {
     "name": "stdout",
     "output_type": "stream",
     "text": [
      "1\n",
      "4 2\n",
      "1 2 3 4\n",
      "[(1, 0), (2, 1), (3, 2), (4, 3)]\n",
      "max (4, 3)\n",
      "max (4, 3)\n",
      "max (4, 3)\n",
      "max (4, 3)\n",
      "max (3, 2)\n",
      "max (3, 2)\n",
      "max (3, 2)\n",
      "2\n"
     ]
    }
   ],
   "source": [
    "test_case = int(input())\n",
    "\n",
    "for _ in range(test_case):\n",
    "    n,m = list(map(int, input().split(' ')))\n",
    "    queue = list(map(int, input().split(' ')))\n",
    "    queue = [(i, idx) for idx, i in enumerate(queue)]\n",
    "    count = 0\n",
    "    print(queue)\n",
    "    \n",
    "    while True:\n",
    "        print(\"max\", max(queue, key=lambda x: x[0]))\n",
    "        if queue[0][0] == max(queue, key=lambda x: x[0])[0]:\n",
    "            count+=1\n",
    "            if queue[0][1] == m:\n",
    "                print(count)\n",
    "                break\n",
    "            else:\n",
    "                queue.pop(0)\n",
    "        else:\n",
    "            queue.append(queue.pop(0))"
   ]
  },
  {
   "cell_type": "markdown",
   "metadata": {},
   "source": [
    "### 키로거"
   ]
  },
  {
   "cell_type": "code",
   "execution_count": 72,
   "metadata": {},
   "outputs": [
    {
     "name": "stdout",
     "output_type": "stream",
     "text": [
      "1\n",
      "ABC<<D>E<<F\n",
      "['A']\n",
      "['A', 'B']\n",
      "['A', 'B', 'C']\n",
      "['A', 'B', 'C']\n",
      "['A', 'B', 'C']\n",
      "['A', 'D', 'B', 'C']\n",
      "['A', 'D', 'B', 'C']\n",
      "['A', 'D', 'B', 'E', 'C']\n",
      "['A', 'D', 'B', 'E', 'C']\n",
      "['A', 'D', 'B', 'E', 'C']\n",
      "['A', 'D', 'F', 'B', 'E', 'C']\n",
      "ADFBEC\n"
     ]
    }
   ],
   "source": [
    "n = int(input())\n",
    "\n",
    "for _ in range(n):\n",
    "    texts = input()\n",
    "    cursor = 0\n",
    "    result = []\n",
    "    for i in texts:\n",
    "        if i == \"<\":\n",
    "            cursor -= 1\n",
    "            if cursor < 0:\n",
    "                cursor =0\n",
    "        elif i == \">\":\n",
    "            if cursor == 0:\n",
    "                continue\n",
    "            cursor += 1\n",
    "        elif i == \"-\":\n",
    "            if cursor > len(result):\n",
    "                cursor = len(result)    \n",
    "            result.pop(cursor-1)\n",
    "            cursor -=1\n",
    "        else:\n",
    "            result.insert(cursor, i)\n",
    "            cursor += 1\n",
    "        print(result)\n",
    "\n",
    "        \n",
    "    \n",
    "# print(result)\n",
    "print(\"\".join(result))"
   ]
  },
  {
   "cell_type": "code",
   "execution_count": 71,
   "metadata": {},
   "outputs": [
    {
     "name": "stdout",
     "output_type": "stream",
     "text": [
      "1\n",
      "ABC<<D>E<<F\n",
      "['A'] []\n",
      "['A', 'B'] []\n",
      "['A', 'B', 'C'] []\n",
      "['A', 'B'] ['C']\n",
      "['A'] ['C', 'B']\n",
      "['A', 'D'] ['C', 'B']\n",
      "['A', 'D', 'B'] ['C']\n",
      "['A', 'D', 'B', 'E'] ['C']\n",
      "['A', 'D', 'B'] ['C', 'E']\n",
      "['A', 'D'] ['C', 'E', 'B']\n",
      "['A', 'D', 'F'] ['C', 'E', 'B']\n",
      "ADFBEC\n"
     ]
    }
   ],
   "source": [
    "test_case = int(input())\n",
    "\n",
    "for _ in range(test_case):\n",
    "    left = []\n",
    "    right = []\n",
    "    data = input()\n",
    "    for i in data:\n",
    "        if i == \"-\":\n",
    "            if left:\n",
    "                left.pop()\n",
    "        elif i == \"<\":\n",
    "            if left:\n",
    "                right.append(left.pop())\n",
    "        elif i == \">\":\n",
    "            if right:\n",
    "                left.append(right.pop())\n",
    "        else:\n",
    "            left.append(i)\n",
    "        print(left, right)\n",
    "    left.extend(reversed(right))\n",
    "    print(\"\".join(left))"
   ]
  }
 ],
 "metadata": {
  "kernelspec": {
   "display_name": "Python 3",
   "language": "python",
   "name": "python3"
  },
  "language_info": {
   "codemirror_mode": {
    "name": "ipython",
    "version": 3
   },
   "file_extension": ".py",
   "mimetype": "text/x-python",
   "name": "python",
   "nbconvert_exporter": "python",
   "pygments_lexer": "ipython3",
   "version": "3.8.3"
  }
 },
 "nbformat": 4,
 "nbformat_minor": 4
}
