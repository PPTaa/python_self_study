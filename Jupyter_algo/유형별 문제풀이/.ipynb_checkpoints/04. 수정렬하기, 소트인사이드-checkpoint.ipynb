{
 "cells": [
  {
   "cell_type": "markdown",
   "metadata": {},
   "source": [
    "## 수 정렬하기"
   ]
  },
  {
   "cell_type": "code",
   "execution_count": 11,
   "metadata": {},
   "outputs": [
    {
     "name": "stdout",
     "output_type": "stream",
     "text": [
      "1\n",
      "1\n",
      "1\n"
     ]
    }
   ],
   "source": [
    "n = int(input())\n",
    "numlist = []\n",
    "for i in range(n):\n",
    "    num = int(input())\n",
    "    numlist.append(num)\n",
    "numlist.sort()\n",
    "    \n",
    "for i in numlist:\n",
    "    print(i)"
   ]
  },
  {
   "cell_type": "markdown",
   "metadata": {},
   "source": [
    "## 소트 인사이드"
   ]
  },
  {
   "cell_type": "code",
   "execution_count": 16,
   "metadata": {},
   "outputs": [
    {
     "name": "stdout",
     "output_type": "stream",
     "text": [
      "18274987152398\n",
      "['9', '9', '8', '8', '8', '7', '7', '5', '4', '3', '2', '2', '1', '1']\n",
      "99888775432211"
     ]
    }
   ],
   "source": [
    "n = input()\n",
    "numlist = []\n",
    "for i in n:\n",
    "    numlist.append(i)\n",
    "\n",
    "numlist.sort(reverse=True)\n",
    "print(numlist)\n",
    "for i in numlist:\n",
    "    print(i,end='')"
   ]
  },
  {
   "cell_type": "code",
   "execution_count": null,
   "metadata": {},
   "outputs": [],
   "source": []
  }
 ],
 "metadata": {
  "kernelspec": {
   "display_name": "Python 3",
   "language": "python",
   "name": "python3"
  },
  "language_info": {
   "codemirror_mode": {
    "name": "ipython",
    "version": 3
   },
   "file_extension": ".py",
   "mimetype": "text/x-python",
   "name": "python",
   "nbconvert_exporter": "python",
   "pygments_lexer": "ipython3",
   "version": "3.8.3"
  }
 },
 "nbformat": 4,
 "nbformat_minor": 4
}
