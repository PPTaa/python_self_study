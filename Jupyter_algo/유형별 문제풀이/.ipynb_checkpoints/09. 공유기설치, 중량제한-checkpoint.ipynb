{
 "cells": [
  {
   "cell_type": "markdown",
   "metadata": {},
   "source": [
    "## 공유기 설치\n",
    "\n",
    "이진탐색"
   ]
  },
  {
   "cell_type": "code",
   "execution_count": 1,
   "metadata": {},
   "outputs": [
    {
     "name": "stdout",
     "output_type": "stream",
     "text": [
      "5 3\n",
      "1\n",
      "2\n",
      "8\n",
      "4\n",
      "9\n",
      "3\n"
     ]
    }
   ],
   "source": [
    "n, c = list(map(int, input().split(\" \")))\n",
    "\n",
    "array = []\n",
    "\n",
    "for _ in range(n):\n",
    "    array.append(int(input()))\n",
    "array = sorted(array)\n",
    "\n",
    "start = array[1] - array[0] # 가장 작은 거리 차이\n",
    "end = array[-1] - array[0] # 가장 큰 거리 차이\n",
    "result = 0\n",
    "\n",
    "while (start <= end):\n",
    "    mid = (start + end) // 2 # 거리차이의 중간값\n",
    "    value = array[0]\n",
    "    count = 1 # 공유기 설치 개수\n",
    "    for i in range(1, len(array)):\n",
    "        if array[i] >= value+mid:\n",
    "            value = array[i]\n",
    "            count += 1\n",
    "    if count >= c: # c개 이상의 공유기를 설치할 수 있는 경우\n",
    "        start = mid + 1\n",
    "        result = mid\n",
    "    else: # c개 이상의 공유기를 설치할 수 없는 경우\n",
    "        end = mid - 1\n",
    "print(result)"
   ]
  },
  {
   "cell_type": "markdown",
   "metadata": {},
   "source": [
    "## 중량제한\n",
    "이진탐색"
   ]
  },
  {
   "cell_type": "code",
   "execution_count": 3,
   "metadata": {},
   "outputs": [
    {
     "name": "stdout",
     "output_type": "stream",
     "text": [
      "3 3\n",
      "1 2 2\n",
      "3 1 3\n",
      "2 3 2\n",
      "1 3\n",
      "3\n"
     ]
    }
   ],
   "source": [
    "from collections import deque\n",
    "\n",
    "n, m = map(int, input().split())\n",
    "adj = [[] for _ in range(n+1)]\n",
    "\n",
    "#BFS(경로가 존재하는지)\n",
    "def bfs(c):\n",
    "    queue = deque([start_node])\n",
    "    visited = [False] * (n+1)\n",
    "    visited[start_node] = True\n",
    "    while queue:\n",
    "        x = queue.popleft()\n",
    "        for y, weight in adj[x]:\n",
    "            if not visited[y] and weight >= c:\n",
    "                visited[y] = True\n",
    "                queue.append(y)\n",
    "    return visited[end_node]\n",
    "\n",
    "start = 1000000000\n",
    "end = 1\n",
    "for _ in range(m):\n",
    "    x,y,weight = map(int, input().split())\n",
    "    adj[x].append((y, weight))\n",
    "    adj[y].append((x, weight))\n",
    "    start = min(start, weight)\n",
    "    end = max(end, weight)\n",
    "    \n",
    "start_node, end_node = map(int, input().split())\n",
    "\n",
    "result = start\n",
    "# 이진 탐색\n",
    "while (start <= end):\n",
    "    mid = (start+end) // 2\n",
    "    if bfs(mid):\n",
    "        result = mid\n",
    "        start = mid+1\n",
    "    else:\n",
    "        end = mid -1\n",
    "        \n",
    "print(result)"
   ]
  },
  {
   "cell_type": "code",
   "execution_count": null,
   "metadata": {},
   "outputs": [],
   "source": []
  }
 ],
 "metadata": {
  "kernelspec": {
   "display_name": "Python 3",
   "language": "python",
   "name": "python3"
  },
  "language_info": {
   "codemirror_mode": {
    "name": "ipython",
    "version": 3
   },
   "file_extension": ".py",
   "mimetype": "text/x-python",
   "name": "python",
   "nbconvert_exporter": "python",
   "pygments_lexer": "ipython3",
   "version": "3.8.3"
  }
 },
 "nbformat": 4,
 "nbformat_minor": 4
}
