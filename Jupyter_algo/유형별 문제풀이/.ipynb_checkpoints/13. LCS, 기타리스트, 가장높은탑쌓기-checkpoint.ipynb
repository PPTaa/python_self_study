{
 "cells": [
  {
   "cell_type": "markdown",
   "metadata": {},
   "source": [
    "## LCS\n",
    "동적프로그래밍, LCS"
   ]
  },
  {
   "cell_type": "code",
   "execution_count": 7,
   "metadata": {},
   "outputs": [
    {
     "name": "stdout",
     "output_type": "stream",
     "text": [
      "asd\n",
      "qwezxcxzv\n",
      "0\n"
     ]
    }
   ],
   "source": [
    "x = input()\n",
    "y = input()\n",
    "\n",
    "dp = [[0]*(len(y)+1) for _ in range(len(x)+1)]\n",
    "\n",
    "for i in range(1, len(x)+1):\n",
    "    for j in range(1, len(y)+1):\n",
    "        if x[i-1] == y[j-1]:\n",
    "            dp[i][j] = dp[i-1][j-1]+1\n",
    "        else:\n",
    "            dp[i][j] = max(dp[i-1][j], dp[i][j-1])\n",
    "print(dp[len(x)][len(y)])"
   ]
  },
  {
   "cell_type": "code",
   "execution_count": 8,
   "metadata": {},
   "outputs": [
    {
     "data": {
      "text/plain": [
       "[[0, 0, 0, 0, 0, 0, 0, 0, 0, 0],\n",
       " [0, 0, 0, 0, 0, 0, 0, 0, 0, 0],\n",
       " [0, 0, 0, 0, 0, 0, 0, 0, 0, 0],\n",
       " [0, 0, 0, 0, 0, 0, 0, 0, 0, 0]]"
      ]
     },
     "execution_count": 8,
     "metadata": {},
     "output_type": "execute_result"
    }
   ],
   "source": [
    "dp"
   ]
  },
  {
   "cell_type": "markdown",
   "metadata": {},
   "source": [
    "## 기타리스트\n",
    "동적프로그래밍"
   ]
  },
  {
   "cell_type": "code",
   "execution_count": 15,
   "metadata": {},
   "outputs": [
    {
     "name": "stdout",
     "output_type": "stream",
     "text": [
      "3 5 10\n",
      "5 3 7\n",
      "10\n"
     ]
    }
   ],
   "source": [
    "n, s, m = map(int, input().split())\n",
    "array = list(map(int, input().split()))\n",
    "\n",
    "dp = [[0]*(m+1) for _ in range(n+1)]\n",
    "dp[0][s] = 1\n",
    "\n",
    "for i in range(1, n+1):\n",
    "    for j in range(m+1):\n",
    "        if dp[i-1][j] == 0:\n",
    "            continue\n",
    "        if j - array[i-1] >= 0:\n",
    "            dp[i][j-array[i-1]] = 1\n",
    "        if j + array[i-1] <= m:\n",
    "            dp[i][j+array[i-1]] = 1\n",
    "            \n",
    "result = -1\n",
    "for i in range(m, -1, -1):\n",
    "    if dp[n][i] == 1:\n",
    "        result = i\n",
    "        break\n",
    "print(result)"
   ]
  },
  {
   "cell_type": "code",
   "execution_count": 16,
   "metadata": {},
   "outputs": [
    {
     "data": {
      "text/plain": [
       "[[0, 0, 0, 0, 0, 1, 0, 0, 0, 0, 0],\n",
       " [1, 0, 0, 0, 0, 0, 0, 0, 0, 0, 1],\n",
       " [0, 0, 0, 1, 0, 0, 0, 1, 0, 0, 0],\n",
       " [1, 0, 0, 0, 0, 0, 0, 0, 0, 0, 1]]"
      ]
     },
     "execution_count": 16,
     "metadata": {},
     "output_type": "execute_result"
    }
   ],
   "source": [
    "array\n",
    "dp"
   ]
  },
  {
   "cell_type": "markdown",
   "metadata": {},
   "source": [
    "## 가장 높은 탑 쌓기\n",
    "동적프로그래밍, LIS"
   ]
  },
  {
   "cell_type": "code",
   "execution_count": 20,
   "metadata": {},
   "outputs": [
    {
     "name": "stdout",
     "output_type": "stream",
     "text": [
      "5\n",
      "25 3 4\n",
      "4 4 6\n",
      "9 2 3\n",
      "16 2 5\n",
      "1 5 2\n",
      "3\n",
      "5\n",
      "3\n",
      "1\n"
     ]
    },
    {
     "data": {
      "text/plain": [
       "[None, None, None]"
      ]
     },
     "execution_count": 20,
     "metadata": {},
     "output_type": "execute_result"
    }
   ],
   "source": [
    "n = int(input())\n",
    "array = []\n",
    "\n",
    "array.append((0,0,0,0))\n",
    "for i in range(1, n+1):\n",
    "    area , height, weight = map(int, input().split())\n",
    "    array.append((i, area, height, weight))\n",
    "#무게기준 정렬\n",
    "array.sort(key= lambda x: x[3])\n",
    "\n",
    "dp = [0]*(n+1)\n",
    "\n",
    "for i in range(1, n+1):\n",
    "    for j in range(0, i):\n",
    "        if array[i][1] > array[j][1]:\n",
    "            dp[i] = max(dp[i], dp[j]+array[i][2])\n",
    "            \n",
    "max_value = max(dp)\n",
    "index = n\n",
    "result = []\n",
    "while index != 0:\n",
    "    if max_value == dp[index]:\n",
    "        result.append(array[index][0])\n",
    "        max_value -= array[index][2]\n",
    "    index -= 1\n",
    "\n",
    "result.reverse()\n",
    "print(len(result))\n",
    "[print(i) for i in result]"
   ]
  },
  {
   "cell_type": "code",
   "execution_count": 21,
   "metadata": {},
   "outputs": [
    {
     "data": {
      "text/plain": [
       "[(0, 0, 0, 0),\n",
       " (5, 1, 5, 2),\n",
       " (3, 9, 2, 3),\n",
       " (1, 25, 3, 4),\n",
       " (4, 16, 2, 5),\n",
       " (2, 4, 4, 6)]"
      ]
     },
     "execution_count": 21,
     "metadata": {},
     "output_type": "execute_result"
    }
   ],
   "source": [
    "array"
   ]
  }
 ],
 "metadata": {
  "kernelspec": {
   "display_name": "Python 3",
   "language": "python",
   "name": "python3"
  },
  "language_info": {
   "codemirror_mode": {
    "name": "ipython",
    "version": 3
   },
   "file_extension": ".py",
   "mimetype": "text/x-python",
   "name": "python",
   "nbconvert_exporter": "python",
   "pygments_lexer": "ipython3",
   "version": "3.8.3"
  }
 },
 "nbformat": 4,
 "nbformat_minor": 4
}
