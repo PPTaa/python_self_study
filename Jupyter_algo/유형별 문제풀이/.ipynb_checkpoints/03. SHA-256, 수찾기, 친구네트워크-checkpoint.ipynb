{
 "cells": [
  {
   "cell_type": "markdown",
   "metadata": {},
   "source": [
    "## SHA-256"
   ]
  },
  {
   "cell_type": "code",
   "execution_count": 10,
   "metadata": {},
   "outputs": [
    {
     "name": "stdout",
     "output_type": "stream",
     "text": [
      "asd\n",
      "688787d8ff144c502c7f5cffaafe2cc588d86079f9de88304c26b0cb99ce91c6\n"
     ]
    }
   ],
   "source": [
    "import hashlib \n",
    "\n",
    "text = input()\n",
    "enc_text = hashlib.sha256(text.encode())\n",
    "print(enc_text.hexdigest())"
   ]
  },
  {
   "cell_type": "markdown",
   "metadata": {},
   "source": [
    "## 수찾기"
   ]
  },
  {
   "cell_type": "code",
   "execution_count": 22,
   "metadata": {},
   "outputs": [
    {
     "name": "stdout",
     "output_type": "stream",
     "text": [
      "5\n",
      "4 1 5 2 3\n",
      "5\n",
      "1 3 7 9 5\n",
      "1\n",
      "1\n",
      "0\n",
      "0\n",
      "1\n"
     ]
    }
   ],
   "source": [
    "n = int(input())\n",
    "num_list = set(map(int, input().split(\" \"))) #리스트를 사용하면 시간초과\n",
    "m = int(input())\n",
    "find_list = list(map(int, input().split(\" \")))\n",
    "for i in find_list:\n",
    "    if i in num_list:\n",
    "        print(1)\n",
    "    else:\n",
    "        print(0)"
   ]
  },
  {
   "cell_type": "markdown",
   "metadata": {},
   "source": [
    "## 친구 네트워크"
   ]
  },
  {
   "cell_type": "code",
   "execution_count": 26,
   "metadata": {},
   "outputs": [
    {
     "name": "stdout",
     "output_type": "stream",
     "text": [
      "2\n",
      "def find(x):     if x == parent[x]:         return x     else:         p = find (parent[x])         parent[x] = p         return parent[x]      def union(x,y):     x = find(x)     y = find(y)     if x!=y:         parent[y] = x         num[x] += num[y]      test_case = int(input()) for _ in range(test_case):     parent = {}     num = {}     f = int(input())          for _ in range(f):                  x,y = input().split(\" \")         if x not in parent:             parent[x] = x             num[x] = 1         if y not in parent:             parent[y] = y             num[y] = 1         union(x, y)     print(num[find(x)])\n"
     ]
    },
    {
     "ename": "ValueError",
     "evalue": "invalid literal for int() with base 10: 'def find(x):     if x == parent[x]:         return x     else:         p = find (parent[x])         parent[x] = p         return parent[x]      def union(x,y):     x = find(x)     y = find(y)     if ",
     "output_type": "error",
     "traceback": [
      "\u001b[0;31m---------------------------------------------------------------------------\u001b[0m",
      "\u001b[0;31mValueError\u001b[0m                                Traceback (most recent call last)",
      "\u001b[0;32m<ipython-input-26-5272703d9b69>\u001b[0m in \u001b[0;36m<module>\u001b[0;34m\u001b[0m\n\u001b[1;32m     18\u001b[0m     \u001b[0mparent\u001b[0m \u001b[0;34m=\u001b[0m \u001b[0;34m{\u001b[0m\u001b[0;34m}\u001b[0m\u001b[0;34m\u001b[0m\u001b[0;34m\u001b[0m\u001b[0m\n\u001b[1;32m     19\u001b[0m     \u001b[0mnum\u001b[0m \u001b[0;34m=\u001b[0m \u001b[0;34m{\u001b[0m\u001b[0;34m}\u001b[0m\u001b[0;34m\u001b[0m\u001b[0;34m\u001b[0m\u001b[0m\n\u001b[0;32m---> 20\u001b[0;31m     \u001b[0mf\u001b[0m \u001b[0;34m=\u001b[0m \u001b[0mint\u001b[0m\u001b[0;34m(\u001b[0m\u001b[0minput\u001b[0m\u001b[0;34m(\u001b[0m\u001b[0;34m)\u001b[0m\u001b[0;34m)\u001b[0m\u001b[0;34m\u001b[0m\u001b[0;34m\u001b[0m\u001b[0m\n\u001b[0m\u001b[1;32m     21\u001b[0m \u001b[0;34m\u001b[0m\u001b[0m\n\u001b[1;32m     22\u001b[0m     \u001b[0;32mfor\u001b[0m \u001b[0m_\u001b[0m \u001b[0;32min\u001b[0m \u001b[0mrange\u001b[0m\u001b[0;34m(\u001b[0m\u001b[0mf\u001b[0m\u001b[0;34m)\u001b[0m\u001b[0;34m:\u001b[0m\u001b[0;34m\u001b[0m\u001b[0;34m\u001b[0m\u001b[0m\n",
      "\u001b[0;31mValueError\u001b[0m: invalid literal for int() with base 10: 'def find(x):     if x == parent[x]:         return x     else:         p = find (parent[x])         parent[x] = p         return parent[x]      def union(x,y):     x = find(x)     y = find(y)     if "
     ]
    }
   ],
   "source": [
    "def find(x):\n",
    "    if x == parent[x]:\n",
    "        return x\n",
    "    else:\n",
    "        p = find (parent[x])\n",
    "        parent[x] = p\n",
    "        return parent[x]\n",
    "    \n",
    "def union(x,y):\n",
    "    x = find(x)\n",
    "    y = find(y)\n",
    "    if x!=y:\n",
    "        parent[y] = x\n",
    "        num[x] += num[y]\n",
    "    \n",
    "test_case = int(input())\n",
    "for _ in range(test_case):\n",
    "    parent = {}\n",
    "    num = {}\n",
    "    f = int(input())\n",
    "    \n",
    "    for _ in range(f):\n",
    "        \n",
    "        x,y = input().split(\" \")\n",
    "        if x not in parent:\n",
    "            parent[x] = x\n",
    "            num[x] = 1\n",
    "        if y not in parent:\n",
    "            parent[y] = y\n",
    "            num[y] = 1\n",
    "        union(x, y)\n",
    "        print(num[find(x)])"
   ]
  },
  {
   "cell_type": "code",
   "execution_count": null,
   "metadata": {},
   "outputs": [],
   "source": []
  }
 ],
 "metadata": {
  "kernelspec": {
   "display_name": "Python 3",
   "language": "python",
   "name": "python3"
  },
  "language_info": {
   "codemirror_mode": {
    "name": "ipython",
    "version": 3
   },
   "file_extension": ".py",
   "mimetype": "text/x-python",
   "name": "python",
   "nbconvert_exporter": "python",
   "pygments_lexer": "ipython3",
   "version": "3.8.3"
  }
 },
 "nbformat": 4,
 "nbformat_minor": 4
}
