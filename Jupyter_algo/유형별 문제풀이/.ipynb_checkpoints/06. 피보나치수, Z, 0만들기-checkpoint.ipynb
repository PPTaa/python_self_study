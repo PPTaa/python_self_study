{
 "cells": [
  {
   "cell_type": "markdown",
   "metadata": {},
   "source": [
    "## 피보나치 수"
   ]
  },
  {
   "cell_type": "code",
   "execution_count": 1,
   "metadata": {},
   "outputs": [],
   "source": [
    "def fibo(n):\n",
    "    if n == 0 :\n",
    "        return n\n",
    "    elif n == 1:\n",
    "        return n\n",
    "    else:\n",
    "        return fibo(n-1) + fibo(n-2)\n",
    "## 시간복잡도의 문제가 생김"
   ]
  },
  {
   "cell_type": "code",
   "execution_count": 2,
   "metadata": {},
   "outputs": [
    {
     "data": {
      "text/plain": [
       "233"
      ]
     },
     "execution_count": 2,
     "metadata": {},
     "output_type": "execute_result"
    }
   ],
   "source": [
    "fibo(13)"
   ]
  },
  {
   "cell_type": "code",
   "execution_count": 3,
   "metadata": {},
   "outputs": [
    {
     "name": "stdout",
     "output_type": "stream",
     "text": [
      "1\n",
      "1\n"
     ]
    }
   ],
   "source": [
    "# 재귀함수 미사용\n",
    "n = int(input())\n",
    "a,b = 0,1 \n",
    "while n >0:\n",
    "    a,b = b, a+b\n",
    "    n -= 1\n",
    "print(a)"
   ]
  },
  {
   "cell_type": "markdown",
   "metadata": {},
   "source": [
    "## Z"
   ]
  },
  {
   "cell_type": "code",
   "execution_count": 4,
   "metadata": {},
   "outputs": [
    {
     "name": "stdout",
     "output_type": "stream",
     "text": [
      "1\n"
     ]
    },
    {
     "ename": "ValueError",
     "evalue": "not enough values to unpack (expected 3, got 1)",
     "output_type": "error",
     "traceback": [
      "\u001b[0;31m---------------------------------------------------------------------------\u001b[0m",
      "\u001b[0;31mValueError\u001b[0m                                Traceback (most recent call last)",
      "\u001b[0;32m<ipython-input-4-e51b3b3093a4>\u001b[0m in \u001b[0;36m<module>\u001b[0;34m\u001b[0m\n\u001b[1;32m     24\u001b[0m     \u001b[0msolve\u001b[0m\u001b[0;34m(\u001b[0m\u001b[0mn\u001b[0m\u001b[0;34m/\u001b[0m\u001b[0;36m2\u001b[0m\u001b[0;34m,\u001b[0m \u001b[0mx\u001b[0m\u001b[0;34m+\u001b[0m\u001b[0mn\u001b[0m\u001b[0;34m/\u001b[0m\u001b[0;36m2\u001b[0m\u001b[0;34m,\u001b[0m\u001b[0my\u001b[0m\u001b[0;34m+\u001b[0m\u001b[0mn\u001b[0m\u001b[0;34m/\u001b[0m\u001b[0;36m2\u001b[0m\u001b[0;34m)\u001b[0m\u001b[0;34m\u001b[0m\u001b[0;34m\u001b[0m\u001b[0m\n\u001b[1;32m     25\u001b[0m \u001b[0mresult\u001b[0m \u001b[0;34m=\u001b[0m \u001b[0;36m0\u001b[0m\u001b[0;34m\u001b[0m\u001b[0;34m\u001b[0m\u001b[0m\n\u001b[0;32m---> 26\u001b[0;31m \u001b[0mN\u001b[0m\u001b[0;34m,\u001b[0m\u001b[0mX\u001b[0m\u001b[0;34m,\u001b[0m\u001b[0mY\u001b[0m \u001b[0;34m=\u001b[0m \u001b[0mmap\u001b[0m\u001b[0;34m(\u001b[0m\u001b[0mint\u001b[0m\u001b[0;34m,\u001b[0m \u001b[0minput\u001b[0m\u001b[0;34m(\u001b[0m\u001b[0;34m)\u001b[0m\u001b[0;34m.\u001b[0m\u001b[0msplit\u001b[0m\u001b[0;34m(\u001b[0m\u001b[0;34m\" \"\u001b[0m\u001b[0;34m)\u001b[0m\u001b[0;34m)\u001b[0m\u001b[0;34m\u001b[0m\u001b[0;34m\u001b[0m\u001b[0m\n\u001b[0m\u001b[1;32m     27\u001b[0m \u001b[0msolve\u001b[0m\u001b[0;34m(\u001b[0m\u001b[0;36m2\u001b[0m\u001b[0;34m**\u001b[0m\u001b[0mN\u001b[0m\u001b[0;34m,\u001b[0m \u001b[0;36m0\u001b[0m\u001b[0;34m,\u001b[0m\u001b[0;36m0\u001b[0m\u001b[0;34m)\u001b[0m\u001b[0;34m\u001b[0m\u001b[0;34m\u001b[0m\u001b[0m\n",
      "\u001b[0;31mValueError\u001b[0m: not enough values to unpack (expected 3, got 1)"
     ]
    }
   ],
   "source": [
    "def solve(n, x, y):\n",
    "    global result\n",
    "    if n == 2:\n",
    "        if x == X and y == Y:\n",
    "            print(result)\n",
    "            return\n",
    "        result += 1\n",
    "        if x == X and y+1 == Y:\n",
    "            print(result)\n",
    "            return\n",
    "        result += 1\n",
    "        if x+1 == X and y == Y:\n",
    "            print(result)\n",
    "            return\n",
    "        result += 1\n",
    "        if x+1 == X and y+1 ==Y:\n",
    "            print(result)\n",
    "            return\n",
    "        result += 1\n",
    "        return\n",
    "    solve(n/2, x,y)\n",
    "    solve(n/2, x,y+n/2)\n",
    "    solve(n/2, x+n/2,y)\n",
    "    solve(n/2, x+n/2,y+n/2)\n",
    "result = 0\n",
    "N,X,Y = map(int, input().split(\" \"))\n",
    "solve(2**N, 0,0)"
   ]
  },
  {
   "cell_type": "markdown",
   "metadata": {},
   "source": [
    "## 0 만들기"
   ]
  },
  {
   "cell_type": "code",
   "execution_count": 8,
   "metadata": {},
   "outputs": [
    {
     "name": "stdout",
     "output_type": "stream",
     "text": [
      "3\n",
      "7\n",
      "1+2-3+4-5-6+7\n",
      "1+2-3-4+5+6-7\n",
      "1-2 3+4+5+6+7\n",
      "1-2 3-4 5+6 7\n",
      "1-2+3+4-5+6-7\n",
      "1-2-3-4-5+6+7\n",
      "\n",
      "8\n",
      "1 2-3 4-5 6+7 8\n",
      "1+2 3-4 5+6+7+8\n",
      "1+2+3+4-5-6-7+8\n",
      "1+2+3-4+5-6+7-8\n",
      "1+2-3+4+5+6-7-8\n",
      "1+2-3-4-5-6+7+8\n",
      "1-2 3-4+5+6+7+8\n",
      "1-2+3-4-5+6-7+8\n",
      "1-2-3+4+5-6-7+8\n",
      "1-2-3+4-5+6+7-8\n",
      "\n",
      "9\n",
      "1 2+3 4-5 6-7+8+9\n",
      "1 2+3+4-5-6-7+8-9\n",
      "1 2+3-4 5+6+7+8+9\n",
      "1 2+3-4+5-6+7-8-9\n",
      "1 2-3+4+5 6-7 8+9\n",
      "1 2-3+4+5+6-7-8-9\n",
      "1 2-3-4-5+6-7-8+9\n",
      "1 2-3-4-5-6+7+8-9\n",
      "1+2-3 4-5 6+7 8+9\n",
      "1-2 3-4-5 6-7+8 9\n",
      "1-2-3 4+5+6+7+8+9\n",
      "\n"
     ]
    }
   ],
   "source": [
    "import copy\n",
    "def solve(array, n):\n",
    "    if len(array) == n:\n",
    "        operators_list.append(copy.deepcopy(array))\n",
    "        return\n",
    "    array.append(\" \")\n",
    "    solve(array, n)\n",
    "    array.pop()\n",
    "    \n",
    "    array.append(\"+\")\n",
    "    solve(array, n)\n",
    "    array.pop()\n",
    "    \n",
    "    array.append(\"-\")\n",
    "    solve(array, n)\n",
    "    array.pop()\n",
    "test_case = int(input())\n",
    "\n",
    "for _ in range(test_case):\n",
    "    operators_list = []\n",
    "    n = int(input())\n",
    "    solve([], n-1)\n",
    "    \n",
    "    integers = [i for i in range(1, n+1)]\n",
    "    \n",
    "    for operators in operators_list:\n",
    "        string = \"\"\n",
    "        for i in range(n-1):\n",
    "            string += str(integers[i]) + operators[i]\n",
    "        string += str(integers[-1])\n",
    "        if eval(string.replace(\" \", \"\")) == 0:\n",
    "            print(string)\n",
    "    print()\n",
    "    "
   ]
  },
  {
   "cell_type": "code",
   "execution_count": null,
   "metadata": {},
   "outputs": [],
   "source": [
    "()"
   ]
  }
 ],
 "metadata": {
  "kernelspec": {
   "display_name": "Python 3",
   "language": "python",
   "name": "python3"
  },
  "language_info": {
   "codemirror_mode": {
    "name": "ipython",
    "version": 3
   },
   "file_extension": ".py",
   "mimetype": "text/x-python",
   "name": "python",
   "nbconvert_exporter": "python",
   "pygments_lexer": "ipython3",
   "version": "3.8.3"
  }
 },
 "nbformat": 4,
 "nbformat_minor": 4
}
