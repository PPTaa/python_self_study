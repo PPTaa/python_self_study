{
 "cells": [
  {
   "cell_type": "markdown",
   "metadata": {},
   "source": [
    "## 최소 힙\n",
    "힙, 자료구조"
   ]
  },
  {
   "cell_type": "code",
   "execution_count": 1,
   "metadata": {},
   "outputs": [
    {
     "name": "stdout",
     "output_type": "stream",
     "text": [
      "9\n",
      "0\n",
      "12345678\n",
      "1\n",
      "2\n",
      "0\n",
      "0\n",
      "0\n",
      "0\n",
      "32\n",
      "0\n",
      "1\n",
      "2\n",
      "12345678\n",
      "0\n"
     ]
    }
   ],
   "source": [
    "import heapq\n",
    "\n",
    "n = int(input())\n",
    "heap = []\n",
    "result = []\n",
    "\n",
    "for _ in range(n):\n",
    "    data = int(input())\n",
    "    if data == 0:\n",
    "        if heap:\n",
    "            result.append(heapq.heappop(heap))\n",
    "        else:\n",
    "            result.append(0)\n",
    "    else:\n",
    "        heapq.heappush(heap, data)\n",
    "\n",
    "for data in result:\n",
    "    print(data)"
   ]
  },
  {
   "cell_type": "markdown",
   "metadata": {},
   "source": [
    "## 카드 정렬하기\n",
    "힙, 자료구조, 그리디"
   ]
  },
  {
   "cell_type": "code",
   "execution_count": 7,
   "metadata": {},
   "outputs": [
    {
     "name": "stdout",
     "output_type": "stream",
     "text": [
      "4\n",
      "10\n",
      "20\n",
      "30\n",
      "40\n",
      "[30, 40, 30]\n",
      "[40, 60]\n",
      "[100]\n",
      "190\n"
     ]
    }
   ],
   "source": [
    "n = int(input())\n",
    "data_list = []\n",
    "result = 0\n",
    "\n",
    "for _ in range(n):\n",
    "    data = int(input())\n",
    "    data_list.append(data)\n",
    "\n",
    "heapq.heapify(data_list)\n",
    "\n",
    "while len(data_list) != 1:\n",
    "    one = heapq.heappop(data_list)\n",
    "    two = heapq.heappop(data_list)\n",
    "    sum_value = one + two\n",
    "    result += sum_value\n",
    "    heapq.heappush(data_list, sum_value)\n",
    "    print(data_list)\n",
    "    \n",
    "print(result)"
   ]
  },
  {
   "cell_type": "markdown",
   "metadata": {},
   "source": [
    "## 문제집\n",
    "힙, 위상정렬"
   ]
  },
  {
   "cell_type": "code",
   "execution_count": 1,
   "metadata": {},
   "outputs": [
    {
     "name": "stdout",
     "output_type": "stream",
     "text": [
      "4 2\n",
      "4 2\n",
      "3 1\n",
      "[[], [], [], [1], [2]]\n",
      "heap [3, 4]\n",
      "[0, 1, 1, 0, 0]\n",
      "[[], [], [], [1], [2]]\n",
      "[]\n",
      "[0, 0, 1, 0, 0]\n",
      "[[], [], [], [1], [2]]\n",
      "[3]\n",
      "[0, 0, 1, 0, 0]\n",
      "[[], [], [], [1], [2]]\n",
      "[3, 1]\n",
      "[0, 0, 0, 0, 0]\n",
      "[[], [], [], [1], [2]]\n",
      "[3, 1, 4]\n",
      "3 1 4 2 "
     ]
    }
   ],
   "source": [
    "import heapq\n",
    "\n",
    "n, m = map(int, input().split())\n",
    "array = [[] for i in range(n+1)]\n",
    "indegree = [0] *(n+1)\n",
    "\n",
    "heap = []\n",
    "result = []\n",
    "\n",
    "for _ in range(m):\n",
    "    x, y = map(int, input().split())\n",
    "    array[x].append(y)\n",
    "    indegree[y] += 1\n",
    "print(array)\n",
    "for i in range(1, n+1):\n",
    "    if indegree[i] == 0:\n",
    "        heapq.heappush(heap, i)\n",
    "result =[]\n",
    "print(\"heap\", heap)\n",
    "while heap:\n",
    "    print(indegree)\n",
    "    print(array)\n",
    "    print(result)\n",
    "    data = heapq.heappop(heap)\n",
    "    result.append(data)\n",
    "    for y in array[data]:\n",
    "        indegree[y] -= 1\n",
    "        if indegree[y] == 0:\n",
    "            heapq.heappush(heap, y)\n",
    "\n",
    "for i in result:\n",
    "    print(i, end=\" \")"
   ]
  },
  {
   "cell_type": "code",
   "execution_count": null,
   "metadata": {},
   "outputs": [],
   "source": []
  }
 ],
 "metadata": {
  "kernelspec": {
   "display_name": "Python 3",
   "language": "python",
   "name": "python3"
  },
  "language_info": {
   "codemirror_mode": {
    "name": "ipython",
    "version": 3
   },
   "file_extension": ".py",
   "mimetype": "text/x-python",
   "name": "python",
   "nbconvert_exporter": "python",
   "pygments_lexer": "ipython3",
   "version": "3.8.3"
  }
 },
 "nbformat": 4,
 "nbformat_minor": 4
}
